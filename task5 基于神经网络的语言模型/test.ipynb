{
 "cells": [
  {
   "cell_type": "code",
   "execution_count": 8,
   "metadata": {
    "collapsed": true
   },
   "outputs": [],
   "source": [
    "def read_data(path, max_length):\n",
    "    with open(path, 'r', encoding=\"utf8\") as f:\n",
    "        poetries_list = []\n",
    "        poetry = []\n",
    "        for line in f:\n",
    "            line = line.strip()\n",
    "            if not line:\n",
    "                if len(poetry) + len(line) <= max_length:\n",
    "                    if poetry:\n",
    "                        poetries_list.append(poetry)\n",
    "                        poetry = []\n",
    "            else:\n",
    "                poetry.append(line)\n",
    "        if poetry:\n",
    "            poetries_list.append(poetry)\n",
    "        return poetries_list\n",
    "\n",
    "data = read_data('data/poetryFromTang.txt', max_length=512)"
   ]
  },
  {
   "cell_type": "code",
   "execution_count": 9,
   "outputs": [
    {
     "data": {
      "text/plain": "['巴山上峡重复重，阳台碧峭十二峰。荆王猎时逢暮雨，', '夜卧高丘梦神女。轻红流烟湿艳姿，行云飞去明星稀。', '目极魂断望不见，猿啼三声泪沾衣。']"
     },
     "execution_count": 9,
     "metadata": {},
     "output_type": "execute_result"
    }
   ],
   "source": [],
   "metadata": {
    "collapsed": false,
    "pycharm": {
     "name": "#%%\n"
    }
   }
  }
 ],
 "metadata": {
  "kernelspec": {
   "name": "pycharm-e631f6fe",
   "language": "python",
   "display_name": "PyCharm (hahamodel)"
  },
  "language_info": {
   "codemirror_mode": {
    "name": "ipython",
    "version": 2
   },
   "file_extension": ".py",
   "mimetype": "text/x-python",
   "name": "python",
   "nbconvert_exporter": "python",
   "pygments_lexer": "ipython2",
   "version": "2.7.6"
  }
 },
 "nbformat": 4,
 "nbformat_minor": 0
}